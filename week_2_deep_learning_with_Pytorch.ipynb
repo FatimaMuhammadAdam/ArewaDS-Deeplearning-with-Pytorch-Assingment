{
  "nbformat": 4,
  "nbformat_minor": 0,
  "metadata": {
    "colab": {
      "provenance": []
    },
    "kernelspec": {
      "name": "python3",
      "display_name": "Python 3"
    },
    "language_info": {
      "name": "python"
    }
  },
  "cells": [
    {
      "cell_type": "markdown",
      "source": [
        "**WEEK TWO EXERCISES**\n",
        "\n",
        "This nootebook is created to provide solution on the exercises given in the Pytorch workflow, which basically include the following:\n",
        "\n",
        "\n",
        "\n",
        "\n",
        "1.   data (prepare and load)\n",
        "2.   build model\n",
        "3.   fitting the model to data (training)\n",
        "4.   making predictions and evaluating a model (inference)\n",
        "5.   saving and loading a model\n",
        "6.   putting it all together\n",
        "\n",
        "\n",
        "##***`The questions are as follows`***\n",
        "\n",
        "\n",
        "All exercises have been inspired from code throughout the notebook.\n",
        "\n",
        "There is one exercise per major section.\n",
        "\n",
        "You should be able to complete them by referencing their specific section.\n",
        "\n",
        "> **Note:** For all exercises, your code should be device agnostic (meaning it could run on CPU or GPU if it's available).\n",
        "\n",
        "1. Create a straight line dataset using the linear regression formula (`weight * X + bias`).\n",
        "  * Set `weight=0.3` and `bias=0.9` there should be at least 100 datapoints total.\n",
        "  * Split the data into 80% training, 20% testing.\n",
        "  * Plot the training and testing data so it becomes visual.\n",
        "2. Build a PyTorch model by subclassing `nn.Module`.\n",
        "  * Inside should be a randomly initialized `nn.Parameter()` with `requires_grad=True`, one for `weights` and one for `bias`.\n",
        "  * Implement the `forward()` method to compute the linear regression function you used to create the dataset in 1.\n",
        "  * Once you've constructed the model, make an instance of it and check its `state_dict()`.\n",
        "  * **Note:** If you'd like to use `nn.Linear()` instead of `nn.Parameter()` you can.\n",
        "3. Create a loss function and optimizer using `nn.L1Loss()` and `torch.optim.SGD(params, lr)` respectively.\n",
        "  * Set the learning rate of the optimizer to be 0.01 and the parameters to optimize should be the model parameters from the model you created in 2.\n",
        "  * Write a training loop to perform the appropriate training steps for 300 epochs.\n",
        "  * The training loop should test the model on the test dataset every 20 epochs.\n",
        "4. Make predictions with the trained model on the test data.\n",
        "  * Visualize these predictions against the original training and testing data (**note:** you may need to make sure the predictions are *not* on the GPU if you want to use non-CUDA-enabled libraries such as matplotlib to plot).\n",
        "5. Save your trained model's `state_dict()` to file.\n",
        "  * Create a new instance of your model class you made in 2. and load in the `state_dict()` you just saved to it.\n",
        "  * Perform predictions on your test data with the loaded model and confirm they match the original model predictions from 4.\n",
        "\n",
        "\n",
        "\n",
        "\n",
        "\n",
        "\n",
        "\n",
        "\n",
        "\n",
        "\n",
        "\n",
        "\n",
        "\n",
        "\n",
        "\n"
      ],
      "metadata": {
        "id": "D8WhP3sxXjjk"
      }
    },
    {
      "cell_type": "code",
      "source": [
        "#let start by importing the pytourch lavbries and also the check the pytouch version\n",
        "import torch\n",
        "from torch import nn\n",
        "import matplotlib.pyplot as plt\n",
        "\n",
        "torch.__version__"
      ],
      "metadata": {
        "colab": {
          "base_uri": "https://localhost:8080/",
          "height": 36
        },
        "id": "yb40Tp4lbCK3",
        "outputId": "bfcd63e2-de94-4388-ece9-0ed626e9a8f6"
      },
      "execution_count": 11,
      "outputs": [
        {
          "output_type": "execute_result",
          "data": {
            "text/plain": [
              "'2.1.0+cu121'"
            ],
            "application/vnd.google.colaboratory.intrinsic+json": {
              "type": "string"
            }
          },
          "metadata": {},
          "execution_count": 11
        }
      ]
    },
    {
      "cell_type": "markdown",
      "source": [
        "**`QUESTION ONE`**"
      ],
      "metadata": {
        "id": "H9zsZ3GZd3tI"
      }
    },
    {
      "cell_type": "code",
      "execution_count": 12,
      "metadata": {
        "colab": {
          "base_uri": "https://localhost:8080/"
        },
        "id": "BbfNVa0rXU96",
        "outputId": "52d32fbd-5c29-4f46-8f4e-754bd7fd9433"
      },
      "outputs": [
        {
          "output_type": "execute_result",
          "data": {
            "text/plain": [
              "(tensor([[0.0000],\n",
              "         [0.0200],\n",
              "         [0.0400],\n",
              "         [0.0600],\n",
              "         [0.0800],\n",
              "         [0.1000],\n",
              "         [0.1200],\n",
              "         [0.1400],\n",
              "         [0.1600],\n",
              "         [0.1800]]),\n",
              " tensor([[0.9000],\n",
              "         [0.9060],\n",
              "         [0.9120],\n",
              "         [0.9180],\n",
              "         [0.9240],\n",
              "         [0.9300],\n",
              "         [0.9360],\n",
              "         [0.9420],\n",
              "         [0.9480],\n",
              "         [0.9540]]))"
            ]
          },
          "metadata": {},
          "execution_count": 12
        }
      ],
      "source": [
        "#Create a straight line dataset using the linear regression formula (weight * X + bias).\n",
        "#Set weight=0.3 and bias=0.9 there should be at least 100 datapoints total.\n",
        "#Split the data into 80% training, 20% testing.\n",
        "#Plot the training and testing data so it becomes visual.\n",
        "\n",
        "weight = 0.3\n",
        "bias = 0.9\n",
        "start = 0\n",
        "end = 1\n",
        "step = 0.02\n",
        "X = torch.arange(start, end, step).unsqueeze(dim = 1)\n",
        "y = weight * X + bias\n",
        "\n",
        "X[:10], y[:10]"
      ]
    },
    {
      "cell_type": "code",
      "source": [
        "# Create train/test split\n",
        "train_split = int(0.8 * len(X)) # 80% of data used for training set, 20% for testing\n",
        "X_train, y_train = X[:train_split], y[:train_split]\n",
        "X_test, y_test = X[train_split:], y[train_split:]\n",
        "\n",
        "len(X_train), len(y_train), len(X_test), len(y_test)"
      ],
      "metadata": {
        "colab": {
          "base_uri": "https://localhost:8080/"
        },
        "id": "s89i2OCMdhZt",
        "outputId": "c0febdce-0f71-4e1d-e2ab-5f1cbce34eae"
      },
      "execution_count": 13,
      "outputs": [
        {
          "output_type": "execute_result",
          "data": {
            "text/plain": [
              "(40, 40, 10, 10)"
            ]
          },
          "metadata": {},
          "execution_count": 13
        }
      ]
    },
    {
      "cell_type": "code",
      "source": [
        "def plot_predictions(train_data=X_train,\n",
        "                     train_labels=y_train,\n",
        "                     test_data=X_test,\n",
        "                     test_labels=y_test,\n",
        "                     predictions=None):\n",
        "  \"\"\"\n",
        "  Plots training data, test data and compares predictions.\n",
        "  \"\"\"\n",
        "  plt.figure(figsize=(10, 7))\n",
        "\n",
        "  # Plot training data in black\n",
        "  plt.scatter(train_data, train_labels, c=\"black\", s=4, label=\"Training data\")\n",
        "\n",
        "  # Plot test data in orange\n",
        "  plt.scatter(test_data, test_labels, c=\"orange\", s=4, label=\"Testing data\")\n",
        "\n",
        "  if predictions is not None:\n",
        "    # Plot the predictions in red (predictions were made on the test data)\n",
        "    plt.scatter(test_data, predictions, c=\"red\", s=4, label=\"Predictions\")\n",
        "\n",
        "  # Show the legend\n",
        "  plt.legend(prop={\"size\": 14});"
      ],
      "metadata": {
        "id": "7vCyrh7oeRrz"
      },
      "execution_count": 14,
      "outputs": []
    },
    {
      "cell_type": "code",
      "source": [
        "plot_predictions()"
      ],
      "metadata": {
        "colab": {
          "base_uri": "https://localhost:8080/",
          "height": 599
        },
        "id": "0y9WjhF8e05c",
        "outputId": "15a2f9df-0c4d-4a77-ea67-7c2c13827bb0"
      },
      "execution_count": 15,
      "outputs": [
        {
          "output_type": "display_data",
          "data": {
            "text/plain": [
              "<Figure size 1000x700 with 1 Axes>"
            ],
            "image/png": "[encoded data removed]"
          },
          "metadata": {}
        }
      ]
    },
    {
      "cell_type": "markdown",
      "source": [
        "**`QUESTION TWO`**"
      ],
      "metadata": {
        "id": "qwhjAI1bgC7j"
      }
    },
    {
      "cell_type": "code",
      "source": [
        "#Build a PyTorch model by subclassing nn.Module.\n",
        "#Inside should be a randomly initialized nn.Parameter() with requires_grad=True, one for weights and one for bias.\n",
        "#Implement the forward() method to compute the linear regression function you used to create the dataset in 1.\n",
        "#Once you've constructed the model, make an instance of it and check its state_dict().\n",
        "#Note: If you'd like to use nn.Linear() instead of nn.Parameter() you can.\n",
        "\n",
        "\n",
        "#nn.module\n",
        "class LinearRegressionModel(nn.Module):\n",
        "    def __init__(self):\n",
        "        super().__init__()\n",
        "        self.weights = nn.Parameter(torch.randn(1, dtype=torch.float), requires_grad=True)\n",
        "        self.bias = nn.Parameter(torch.randn(1, dtype=torch.float), requires_grad=True)\n",
        "\n",
        "    def forward(self, x: torch.Tensor) -> torch.Tensor:\n",
        "        return self.weights * x + self.bias"
      ],
      "metadata": {
        "id": "r4G9dGLifCCE"
      },
      "execution_count": 30,
      "outputs": []
    },
    {
      "cell_type": "code",
      "source": [
        "# Set manual seed since nn.Parameter are randomly initialzied\n",
        "torch.manual_seed(42)\n",
        "\n",
        "# Create an instance of the model (this is a subclass of nn.Module that contains nn.Parameter(s))\n",
        "model_0 = LinearRegressionModel()\n",
        "\n",
        "# Check the nn.Parameter(s) within the nn.Module subclass we created\n",
        "list(model_0.parameters())"
      ],
      "metadata": {
        "colab": {
          "base_uri": "https://localhost:8080/"
        },
        "id": "uoAI8DJQkEva",
        "outputId": "0ea2ee2f-4245-4265-a5a7-c6ebc7cc95d3"
      },
      "execution_count": 26,
      "outputs": [
        {
          "output_type": "execute_result",
          "data": {
            "text/plain": [
              "[Parameter containing:\n",
              " tensor([0.3367], requires_grad=True),\n",
              " Parameter containing:\n",
              " tensor([0.1288], requires_grad=True)]"
            ]
          },
          "metadata": {},
          "execution_count": 26
        }
      ]
    },
    {
      "cell_type": "code",
      "source": [
        "#NAMED PARAMETERS\n",
        "model_0.state_dict()\n"
      ],
      "metadata": {
        "colab": {
          "base_uri": "https://localhost:8080/"
        },
        "id": "TU-rmcSGjkn-",
        "outputId": "4ac58cb1-cbdf-406d-a341-05a47c76f166"
      },
      "execution_count": 27,
      "outputs": [
        {
          "output_type": "execute_result",
          "data": {
            "text/plain": [
              "OrderedDict([('weights', tensor([0.3367])), ('bias', tensor([0.1288]))])"
            ]
          },
          "metadata": {},
          "execution_count": 27
        }
      ]
    },
    {
      "cell_type": "code",
      "source": [
        "# Make predictions with model\n",
        "with torch.inference_mode():\n",
        "    y_preds = model_0(X_test)"
      ],
      "metadata": {
        "id": "vq0ZtUlCloFd"
      },
      "execution_count": 28,
      "outputs": []
    },
    {
      "cell_type": "code",
      "source": [
        "# Check the predictions\n",
        "print(f\"Number of testing samples: {len(X_test)}\")\n",
        "print(f\"Number of predictions made: {len(y_preds)}\")\n",
        "print(f\"Predicted values:\\n{y_preds}\")"
      ],
      "metadata": {
        "colab": {
          "base_uri": "https://localhost:8080/"
        },
        "id": "JB3LRVKZnGAJ",
        "outputId": "dced45ec-7822-4f5e-eabc-0cba3b2b766d"
      },
      "execution_count": 29,
      "outputs": [
        {
          "output_type": "stream",
          "name": "stdout",
          "text": [
            "Number of testing samples: 10\n",
            "Number of predictions made: 10\n",
            "Predicted values:\n",
            "tensor([[0.3982],\n",
            "        [0.4049],\n",
            "        [0.4116],\n",
            "        [0.4184],\n",
            "        [0.4251],\n",
            "        [0.4318],\n",
            "        [0.4386],\n",
            "        [0.4453],\n",
            "        [0.4520],\n",
            "        [0.4588]])\n"
          ]
        }
      ]
    },
    {
      "cell_type": "code",
      "source": [
        "plot_predictions(predictions=y_preds)"
      ],
      "metadata": {
        "colab": {
          "base_uri": "https://localhost:8080/",
          "height": 599
        },
        "id": "Q3Qhieu_Fc3y",
        "outputId": "c4d04bfb-f246-43af-b7ca-c196c829799e"
      },
      "execution_count": 31,
      "outputs": [
        {
          "output_type": "display_data",
          "data": {
            "text/plain": [
              "<Figure size 1000x700 with 1 Axes>"
            ],
            "image/png": "[encoded data removed]"
          },
          "metadata": {}
        }
      ]
    },
    {
      "cell_type": "markdown",
      "source": [
        "**`QUESTION THREE`**"
      ],
      "metadata": {
        "id": "OU9DpKdVHloj"
      }
    },
    {
      "cell_type": "code",
      "source": [
        "y_test - y_preds"
      ],
      "metadata": {
        "colab": {
          "base_uri": "https://localhost:8080/"
        },
        "id": "huZNWu9xJZWK",
        "outputId": "f8e72f86-a1d1-4575-f16f-ecda37d5e5b9"
      },
      "execution_count": 32,
      "outputs": [
        {
          "output_type": "execute_result",
          "data": {
            "text/plain": [
              "tensor([[0.7418],\n",
              "        [0.7411],\n",
              "        [0.7404],\n",
              "        [0.7396],\n",
              "        [0.7389],\n",
              "        [0.7382],\n",
              "        [0.7374],\n",
              "        [0.7367],\n",
              "        [0.7360],\n",
              "        [0.7352]])"
            ]
          },
          "metadata": {},
          "execution_count": 32
        }
      ]
    },
    {
      "cell_type": "code",
      "source": [
        "#Create a loss function and optimizer using nn.L1Loss() and torch.optim.SGD(params, lr) respectively.\n",
        "#Set the learning rate of the optimizer to be 0.01 and the parameters to optimize should be the model parameters from the model you created in 2.\n",
        "#Write a training loop to perform the appropriate training steps for 300 epochs.\n",
        "#The training loop should test the model on the test dataset every 20 epochs.\n",
        "\n",
        "# Create the loss function\n",
        "loss_fn = nn.L1Loss()\n",
        "\n",
        "# Create the optimizer\n",
        "optimizer = torch.optim.SGD(params=model_0.parameters(), lr=0.01)"
      ],
      "metadata": {
        "id": "OWt__jc9Gvkz"
      },
      "execution_count": 33,
      "outputs": []
    },
    {
      "cell_type": "code",
      "source": [
        "torch.manual_seed(42)\n",
        "\n",
        "epochs = 300\n",
        "\n",
        "# Create empty loss lists to track values\n",
        "train_loss_values = []\n",
        "test_loss_values = []\n",
        "epoch_count = []\n",
        "\n",
        "for epoch in range(epochs):\n",
        "    ### Training\n",
        "\n",
        "    # Put model in training mode (this is the default state of a model)\n",
        "    model_0.train()\n",
        "\n",
        "    # Forward pass on train data using the forward() method inside\n",
        "    y_pred = model_0(X_train)\n",
        "    # print(y_pred)\n",
        "\n",
        "    #Calculate the loss (how different are our models predictions to the ground truth)\n",
        "    loss = loss_fn(y_pred, y_train)\n",
        "\n",
        "    #Zero grad of the optimizer\n",
        "    optimizer.zero_grad()\n",
        "\n",
        "    #Loss backwards\n",
        "    loss.backward()\n",
        "\n",
        "    #Progress the optimizer\n",
        "    optimizer.step()\n",
        "\n",
        "    ### Testing\n",
        "\n",
        "    # Put the model in evaluation mode\n",
        "    model_0.eval()\n",
        "\n",
        "    with torch.inference_mode():\n",
        "      #Forward pass on test data\n",
        "      test_pred = model_0(X_test)\n",
        "\n",
        "      #Caculate loss on test data\n",
        "      test_loss = loss_fn(test_pred, y_test.type(torch.float))\n",
        "\n",
        "      if epoch % 20 == 0:\n",
        "            epoch_count.append(epoch)\n",
        "            train_loss_values.append(loss.detach().numpy())\n",
        "            test_loss_values.append(test_loss.detach().numpy())\n",
        "            print(f\"Epoch: {epoch} | MAE Train Loss: {loss} | MAE Test Loss: {test_loss} \")"
      ],
      "metadata": {
        "colab": {
          "base_uri": "https://localhost:8080/"
        },
        "id": "rKAvYLTTKWIS",
        "outputId": "3dd32203-d6c2-4fa0-db1e-5ade78d350cd"
      },
      "execution_count": 34,
      "outputs": [
        {
          "output_type": "stream",
          "name": "stdout",
          "text": [
            "Epoch: 0 | MAE Train Loss: 0.7568813562393188 | MAE Test Loss: 0.7250651121139526 \n",
            "Epoch: 20 | MAE Train Loss: 0.5264613628387451 | MAE Test Loss: 0.4556453227996826 \n",
            "Epoch: 40 | MAE Train Loss: 0.2960416078567505 | MAE Test Loss: 0.18622562289237976 \n",
            "Epoch: 60 | MAE Train Loss: 0.07731032371520996 | MAE Test Loss: 0.06994309276342392 \n",
            "Epoch: 80 | MAE Train Loss: 0.0521300844848156 | MAE Test Loss: 0.11544597148895264 \n",
            "Epoch: 100 | MAE Train Loss: 0.04509609192609787 | MAE Test Loss: 0.1043960452079773 \n",
            "Epoch: 120 | MAE Train Loss: 0.038231261074543 | MAE Test Loss: 0.08853815495967865 \n",
            "Epoch: 140 | MAE Train Loss: 0.03136344999074936 | MAE Test Loss: 0.07268030941486359 \n",
            "Epoch: 160 | MAE Train Loss: 0.02448992058634758 | MAE Test Loss: 0.05682243034243584 \n",
            "Epoch: 180 | MAE Train Loss: 0.01762397214770317 | MAE Test Loss: 0.04027769714593887 \n",
            "Epoch: 200 | MAE Train Loss: 0.010759142227470875 | MAE Test Loss: 0.024419832974672318 \n",
            "Epoch: 220 | MAE Train Loss: 0.003885951591655612 | MAE Test Loss: 0.008561968803405762 \n",
            "Epoch: 240 | MAE Train Loss: 0.007553315255790949 | MAE Test Loss: 0.00865715742111206 \n",
            "Epoch: 260 | MAE Train Loss: 0.007553315255790949 | MAE Test Loss: 0.00865715742111206 \n",
            "Epoch: 280 | MAE Train Loss: 0.007553315255790949 | MAE Test Loss: 0.00865715742111206 \n"
          ]
        }
      ]
    },
    {
      "cell_type": "code",
      "source": [
        "# Plot the loss curves\n",
        "plt.plot(epoch_count, train_loss_values, label=\"Train loss\")\n",
        "plt.plot(epoch_count, test_loss_values, label=\"Test loss\")\n",
        "plt.title(\"Training and test loss curves\")\n",
        "plt.ylabel(\"Loss\")\n",
        "plt.xlabel(\"Epochs\")\n",
        "plt.legend();"
      ],
      "metadata": {
        "colab": {
          "base_uri": "https://localhost:8080/",
          "height": 472
        },
        "id": "vQYKqG2NLIAz",
        "outputId": "bda74a6c-a504-44bb-e9bc-9f5b571edbc6"
      },
      "execution_count": 35,
      "outputs": [
        {
          "output_type": "display_data",
          "data": {
            "text/plain": [
              "<Figure size 640x480 with 1 Axes>"
            ],
            "image/png": "[encoded data removed]"
          },
          "metadata": {}
        }
      ]
    },
    {
      "cell_type": "code",
      "source": [
        "# Find our model's learned parameters\n",
        "# and inspect our model\n",
        "print(\"The model learned the following values for weights and bias:\")\n",
        "print(model_0.state_dict())\n",
        "print(\"\\nAnd the original values for weights and bias are:\")\n",
        "print(f\"weights: {weight}, bias: {bias}\")"
      ],
      "metadata": {
        "colab": {
          "base_uri": "https://localhost:8080/"
        },
        "id": "0-SfroI7LjlK",
        "outputId": "cb411954-207e-41bd-90a7-a4026a298a16"
      },
      "execution_count": 36,
      "outputs": [
        {
          "output_type": "stream",
          "name": "stdout",
          "text": [
            "The model learned the following values for weights and bias:\n",
            "OrderedDict([('weights', tensor([0.3055])), ('bias', tensor([0.8903]))])\n",
            "\n",
            "And the original values for weights and bias are:\n",
            "weights: 0.3, bias: 0.9\n"
          ]
        }
      ]
    },
    {
      "cell_type": "markdown",
      "source": [
        "**`QUESTION FOUR`**"
      ],
      "metadata": {
        "id": "mzoJRTwtRWA7"
      }
    },
    {
      "cell_type": "code",
      "source": [
        "#Make predictions with the trained model on the test data.\n",
        "#Visualize these predictions against the original training and testing data\n",
        "#(note: you may need to make sure the predictions are not on the GPU if you want to use non-CUDA-enabled libraries such as matplotlib to plot).\n",
        "\n",
        "#Set the model in evaluation mode\n",
        "model_0.eval()\n",
        "\n",
        "#Setup the inference mode context manager\n",
        "with torch.inference_mode():\n",
        "  y_preds = model_0(X_test)\n",
        "y_preds"
      ],
      "metadata": {
        "colab": {
          "base_uri": "https://localhost:8080/"
        },
        "id": "fm7k0BaMM0uU",
        "outputId": "037e2f8e-e54f-49a6-f69b-2a4759b088ee"
      },
      "execution_count": 37,
      "outputs": [
        {
          "output_type": "execute_result",
          "data": {
            "text/plain": [
              "tensor([[1.1347],\n",
              "        [1.1408],\n",
              "        [1.1469],\n",
              "        [1.1530],\n",
              "        [1.1591],\n",
              "        [1.1652],\n",
              "        [1.1714],\n",
              "        [1.1775],\n",
              "        [1.1836],\n",
              "        [1.1897]])"
            ]
          },
          "metadata": {},
          "execution_count": 37
        }
      ]
    },
    {
      "cell_type": "code",
      "source": [
        "plot_predictions(predictions=y_preds)"
      ],
      "metadata": {
        "colab": {
          "base_uri": "https://localhost:8080/",
          "height": 599
        },
        "id": "1uq7FLpXOI_8",
        "outputId": "f23ef4a0-9e30-4013-d6f2-caedd7e29247"
      },
      "execution_count": 38,
      "outputs": [
        {
          "output_type": "display_data",
          "data": {
            "text/plain": [
              "<Figure size 1000x700 with 1 Axes>"
            ],
            "image/png": "[encoded data removed]"
          },
          "metadata": {}
        }
      ]
    },
    {
      "cell_type": "code",
      "source": [
        "from pathlib import Path\n",
        "\n",
        "# Create models directory\n",
        "MODEL_PATH = Path(\"models\")\n",
        "MODEL_PATH.mkdir(parents=True, exist_ok=True)\n",
        "\n",
        "#Create model save path\n",
        "MODEL_NAME = \"fatima_muhammad_adam_model_0.pth\"\n",
        "MODEL_SAVE_PATH = MODEL_PATH / MODEL_NAME\n",
        "\n",
        "# Save the model state dict\n",
        "print(f\"Saving model to: {MODEL_SAVE_PATH}\")\n",
        "torch.save(obj=model_0.state_dict(),\n",
        "           f=MODEL_SAVE_PATH)"
      ],
      "metadata": {
        "colab": {
          "base_uri": "https://localhost:8080/"
        },
        "id": "aJpGk_iBOZIF",
        "outputId": "0ffc66ed-e282-492b-e887-3ea594963c2e"
      },
      "execution_count": 39,
      "outputs": [
        {
          "output_type": "stream",
          "name": "stdout",
          "text": [
            "Saving model to: models/fatima_muhammad_adam_model_0.pth\n"
          ]
        }
      ]
    },
    {
      "cell_type": "code",
      "source": [
        "# Check the saved file path\n",
        "!ls -l models/fatima_muhammad_adam_model_0.pth"
      ],
      "metadata": {
        "colab": {
          "base_uri": "https://localhost:8080/"
        },
        "id": "FQfoV8xhO5xy",
        "outputId": "52c0eeb0-11c5-4fe8-c15f-749b3c3158f2"
      },
      "execution_count": 40,
      "outputs": [
        {
          "output_type": "stream",
          "name": "stdout",
          "text": [
            "-rw-r--r-- 1 root root 1686 Dec 30 19:37 models/fatima_muhammad_adam_model_0.pth\n"
          ]
        }
      ]
    },
    {
      "cell_type": "markdown",
      "source": [
        "**`QUESTION FIVE`**"
      ],
      "metadata": {
        "id": "LDyGaMDnP4yf"
      }
    },
    {
      "cell_type": "code",
      "source": [
        "#Save your trained model's state_dict() to file.\n",
        "#Create a new instance of your model class you made in 2. and load in the state_dict() you just saved to it.\n",
        "#Perform predictions on your test data with the loaded model and confirm they match the original model predictions from 4.\n",
        "\n",
        "# Instantiate a new instance of our model\n",
        "loaded_model_0 = LinearRegressionModel()\n",
        "\n",
        "# Load the state_dict of our saved model\n",
        "loaded_model_0.load_state_dict(torch.load(f=MODEL_SAVE_PATH))"
      ],
      "metadata": {
        "colab": {
          "base_uri": "https://localhost:8080/"
        },
        "id": "VxEry9lePLke",
        "outputId": "f0ece12a-cf22-4901-e59c-75a30cbc94a7"
      },
      "execution_count": 41,
      "outputs": [
        {
          "output_type": "execute_result",
          "data": {
            "text/plain": [
              "<All keys matched successfully>"
            ]
          },
          "metadata": {},
          "execution_count": 41
        }
      ]
    },
    {
      "cell_type": "code",
      "source": [
        "# Put the loaded model into evaluation mode\n",
        "loaded_model_0.eval()\n",
        "\n",
        "# Use the inference mode context manager to make predictions\n",
        "with torch.inference_mode():\n",
        "    loaded_model_preds = loaded_model_0(X_test) # perform a forward pass on the test data with the loaded model"
      ],
      "metadata": {
        "id": "JFDvGlTfSWDI"
      },
      "execution_count": 42,
      "outputs": []
    },
    {
      "cell_type": "code",
      "source": [
        "# Compare previous model predictions with loaded model predictions (these should be the same)\n",
        "y_preds == loaded_model_preds"
      ],
      "metadata": {
        "colab": {
          "base_uri": "https://localhost:8080/"
        },
        "id": "s74FThYETHlJ",
        "outputId": "3b7ae23b-7760-4b2b-9770-e90d2a852530"
      },
      "execution_count": 43,
      "outputs": [
        {
          "output_type": "execute_result",
          "data": {
            "text/plain": [
              "tensor([[True],\n",
              "        [True],\n",
              "        [True],\n",
              "        [True],\n",
              "        [True],\n",
              "        [True],\n",
              "        [True],\n",
              "        [True],\n",
              "        [True],\n",
              "        [True]])"
            ]
          },
          "metadata": {},
          "execution_count": 43
        }
      ]
    },
    {
      "cell_type": "code",
      "source": [],
      "metadata": {
        "id": "0rWTuTVqTVp3"
      },
      "execution_count": null,
      "outputs": []
    }
  ]
}