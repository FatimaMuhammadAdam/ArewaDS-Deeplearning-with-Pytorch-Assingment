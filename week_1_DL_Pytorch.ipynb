{
  "nbformat": 4,
  "nbformat_minor": 0,
  "metadata": {
    "colab": {
      "provenance": []
    },
    "kernelspec": {
      "name": "python3",
      "display_name": "Python 3"
    },
    "language_info": {
      "name": "python"
    }
  },
  "cells": [
    {
      "cell_type": "markdown",
      "source": [
        "**Deep learning with**![image.png](data:image/png;base64,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)\n"
      ],
      "metadata": {
        "id": "-uUSFH1SFSpV"
      }
    },
    {
      "cell_type": "markdown",
      "source": [
        "**Week One Deep Learning with PyTorch Assignment**\n",
        "\n",
        "This notebook was created to conduct exercises on the fundamentals of PyTorch.\n",
        "\n",
        "**PyTorch** is a machine learning and deep learning framework that is open source. It allows for data manipulation and processing, as well as the implementation of machine learning algorithms using Python code. PyTorch is utilized by many of the world's largest technological enterprises, including Meta (Facebook), Tesla, and Microsoft, as well as artificial intelligence research organizations like OpenAI, to drive research initiatives and integrate machine learning into their products."
      ],
      "metadata": {
        "id": "iMFK_L33GQ1a"
      }
    },
    {
      "cell_type": "code",
      "source": [
        "#Docmentation reading on torch.Tensor and torch.cuda\n",
        "import torch\n",
        "torch.__version__"
      ],
      "metadata": {
        "colab": {
          "base_uri": "https://localhost:8080/"
        },
        "id": "HHG9WJPEDJax",
        "outputId": "93414843-8ae7-4439-f14e-eccdf882c8e3"
      },
      "execution_count": null,
      "outputs": [
        {
          "output_type": "execute_result",
          "data": {
            "text/plain": [
              "'2.1.0+cu121'"
            ],
            "application/vnd.google.colaboratory.intrinsic+json": {
              "type": "string"
            }
          },
          "metadata": {},
          "execution_count": 1
        }
      ]
    },
    {
      "cell_type": "code",
      "source": [
        "#create a random number with shape(7,7)\n",
        "rd_tensor = torch.randn(size =( 7,7))\n",
        "print (rd_tensor, '', rd_tensor.shape)"
      ],
      "metadata": {
        "id": "AwrBzgSuDZLy",
        "colab": {
          "base_uri": "https://localhost:8080/"
        },
        "outputId": "b68b5a30-43f5-4ade-d314-dd945756fa7a"
      },
      "execution_count": null,
      "outputs": [
        {
          "output_type": "stream",
          "name": "stdout",
          "text": [
            "tensor([[-0.4132, -2.1280, -0.5803, -1.1406, -0.2182,  0.4547, -0.2735],\n",
            "        [-0.6553, -0.2253,  0.7905,  0.2755,  0.4018, -0.7942,  0.3623],\n",
            "        [ 0.4149,  1.4548,  0.8650,  0.2556,  1.0659,  1.4669, -1.5384],\n",
            "        [ 0.4212, -1.4368, -0.1780,  0.5522,  0.1669, -0.3860, -0.4582],\n",
            "        [ 1.9940, -0.2895, -0.8469,  0.1727,  0.2615,  0.0543,  0.4143],\n",
            "        [ 0.3734,  1.7659,  1.9089, -1.3593,  1.1776, -0.8388, -2.6560],\n",
            "        [ 0.7791, -0.5499,  0.4627, -1.2868, -0.0894, -0.7550, -0.7956]])  torch.Size([7, 7])\n"
          ]
        }
      ]
    },
    {
      "cell_type": "code",
      "source": [
        "#to check for dimention\n",
        "rd_tensor.ndim"
      ],
      "metadata": {
        "colab": {
          "base_uri": "https://localhost:8080/"
        },
        "id": "mMNrRZPXKnsm",
        "outputId": "826c8985-a9cf-41ce-8c86-796c2cd346b5"
      },
      "execution_count": null,
      "outputs": [
        {
          "output_type": "execute_result",
          "data": {
            "text/plain": [
              "2"
            ]
          },
          "metadata": {},
          "execution_count": 5
        }
      ]
    },
    {
      "cell_type": "code",
      "source": [
        "#Perform a matrix multiplication on the tensor from 2 with another random tensor with shape (1, 7)\n",
        "#(hint: you may have to transpose the second tensor).\n",
        "brd_tensor = torch.randn(size =(1,7))\n",
        "output = rd_tensor @ brd_tensor.T\n",
        "print(output, ' ', output.shape)"
      ],
      "metadata": {
        "colab": {
          "base_uri": "https://localhost:8080/"
        },
        "id": "prh2GLRcLI-u",
        "outputId": "838ab1e7-3c9c-4990-a2ec-253469f79fd9"
      },
      "execution_count": null,
      "outputs": [
        {
          "output_type": "stream",
          "name": "stdout",
          "text": [
            "tensor([[-2.0870],\n",
            "        [-1.1908],\n",
            "        [ 0.4043],\n",
            "        [-2.3225],\n",
            "        [-0.3122],\n",
            "        [ 1.6332],\n",
            "        [ 0.3777]])   torch.Size([7, 1])\n"
          ]
        }
      ]
    },
    {
      "cell_type": "code",
      "source": [
        "#Set the random seed to 0 and do exercises 2 & 3 over again\n",
        "torch.manual_seed(0)\n",
        "rd_tensor = torch.randn(size =( 7,7))\n",
        "brd_tensor = torch.randn(size =(1,7))\n",
        "output = rd_tensor @ brd_tensor.T\n",
        "print(output, ' ', output.shape)"
      ],
      "metadata": {
        "id": "qK10EKWwNI1E",
        "colab": {
          "base_uri": "https://localhost:8080/"
        },
        "outputId": "fff9ca71-7b10-46cf-85f8-2d33d185c1f8"
      },
      "execution_count": 7,
      "outputs": [
        {
          "output_type": "stream",
          "name": "stdout",
          "text": [
            "tensor([[ 3.5168],\n",
            "        [ 2.1984],\n",
            "        [-1.7815],\n",
            "        [ 3.8600],\n",
            "        [-1.5010],\n",
            "        [-1.6916],\n",
            "        [-2.9352]])   torch.Size([7, 1])\n"
          ]
        }
      ]
    },
    {
      "cell_type": "code",
      "source": [
        "#Speaking of random seeds, we saw how to set it with torch.manual_seed()\n",
        "#but is there a GPU equivalent? (hint: you'll need to look into the documentation for torch.cuda for this one).\n",
        "#If there is, set the GPU random seed to 1234.\n",
        "torch.cuda.manual_seed(1234)"
      ],
      "metadata": {
        "id": "AEjy3XbOOS0t"
      },
      "execution_count": 8,
      "outputs": []
    },
    {
      "cell_type": "code",
      "source": [
        "#Create two random tensors of shape (2, 3) and send them both to the GPU (you'll need access to a GPU for this).\n",
        "#Set torch.manual_seed(1234) when creating the tensors (this doesn't have to be the GPU random seed).\n",
        "\n",
        "system = 'cuda' if torch.cuda.is_available() else 'cpu'\n",
        "torch.cuda.manual_seed(1234)\n",
        "\n",
        "gpu_rdm_tensor = torch.rand(size=(2,3)).to(system)\n",
        "print(gpu_rdm_tensor)\n",
        "\n",
        "gpu_rdm_tensor_A = torch.rand(size=(2,3)).to(system)\n",
        "print(gpu_rdm_tensor_A)"
      ],
      "metadata": {
        "colab": {
          "base_uri": "https://localhost:8080/"
        },
        "id": "CAzcs5BvO1Se",
        "outputId": "081f51f3-2475-432a-a469-abdf27ce0c8a"
      },
      "execution_count": 9,
      "outputs": [
        {
          "output_type": "stream",
          "name": "stdout",
          "text": [
            "tensor([[0.9442, 0.8802, 0.0012],\n",
            "        [0.5936, 0.4158, 0.4177]])\n",
            "tensor([[0.2711, 0.6923, 0.2038],\n",
            "        [0.6833, 0.7529, 0.8579]])\n"
          ]
        }
      ]
    },
    {
      "cell_type": "code",
      "source": [
        "# Question 7: Perform a matrix multiplication on the tensors you created\n",
        "# in 6 (again, you may have to adjust the shapes of one of the tensors).\n",
        "out_put = gpu_rdm_tensor @ gpu_rdm_tensor_A.T\n",
        "print(out_put)"
      ],
      "metadata": {
        "colab": {
          "base_uri": "https://localhost:8080/"
        },
        "id": "UenXtiLPQKN4",
        "outputId": "bb86353e-53e3-4abb-8cb0-994f882b3372"
      },
      "execution_count": 10,
      "outputs": [
        {
          "output_type": "stream",
          "name": "stdout",
          "text": [
            "tensor([[0.8656, 1.3089],\n",
            "        [0.5339, 1.0770]])\n"
          ]
        }
      ]
    },
    {
      "cell_type": "code",
      "source": [
        "#Find the maximum and minimum values of the output of 7.\n",
        "\n",
        "print(out_put.max())\n",
        "print(out_put.min())"
      ],
      "metadata": {
        "colab": {
          "base_uri": "https://localhost:8080/"
        },
        "id": "ooNLpIp4Qslx",
        "outputId": "4b084426-dd4c-4b61-ee44-7dd0e62da042"
      },
      "execution_count": 11,
      "outputs": [
        {
          "output_type": "stream",
          "name": "stdout",
          "text": [
            "tensor(1.3089)\n",
            "tensor(0.5339)\n"
          ]
        }
      ]
    },
    {
      "cell_type": "code",
      "source": [
        "#Find the maximum and minimum index values of the output of 7.\n",
        "print(torch.argmax(out_put))\n",
        "print(torch.argmin(out_put))"
      ],
      "metadata": {
        "colab": {
          "base_uri": "https://localhost:8080/"
        },
        "id": "19YCxiIbQ7oy",
        "outputId": "d1bcfc4e-36f3-4afa-a561-777b2b853bf5"
      },
      "execution_count": 12,
      "outputs": [
        {
          "output_type": "stream",
          "name": "stdout",
          "text": [
            "tensor(1)\n",
            "tensor(2)\n"
          ]
        }
      ]
    },
    {
      "cell_type": "code",
      "source": [
        "#Make a random tensor with shape (1, 1, 1, 10) and then create a new tensor with all the 1 dimensions removed to be left with a tensor of shape (10).\n",
        "#Set the seed to 7 when you create it and print out the first tensor and it's shape as well as the second tensor and it's shape.\n",
        "\n",
        "torch.manual_seed(7)\n",
        "rdm_tensor = torch.randn(size = (1,1,1,10))\n",
        "print('first' , rdm_tensor.shape)\n",
        "print('first', rdm_tensor)\n",
        "\n",
        "rdm_tensor_2 = rdm_tensor.squeeze()\n",
        "print('new rdm tensor', rdm_tensor_2)\n",
        "print('new rdm tensor', rdm_tensor_2.shape)"
      ],
      "metadata": {
        "colab": {
          "base_uri": "https://localhost:8080/"
        },
        "id": "GkLOCaSARx4D",
        "outputId": "827ee0f1-fdb0-46aa-8e57-18738ee17fb3"
      },
      "execution_count": 13,
      "outputs": [
        {
          "output_type": "stream",
          "name": "stdout",
          "text": [
            "first torch.Size([1, 1, 1, 10])\n",
            "first tensor([[[[-0.1468,  0.7861,  0.9468, -1.1143,  1.6908, -0.8948, -0.3556,\n",
            "            1.2324,  0.1382, -1.6822]]]])\n",
            "new rdm tensor tensor([-0.1468,  0.7861,  0.9468, -1.1143,  1.6908, -0.8948, -0.3556,  1.2324,\n",
            "         0.1382, -1.6822])\n",
            "new rdm tensor torch.Size([10])\n"
          ]
        }
      ]
    },
    {
      "cell_type": "code",
      "source": [],
      "metadata": {
        "id": "I3dQ5A9hThkJ"
      },
      "execution_count": null,
      "outputs": []
    }
  ]
}